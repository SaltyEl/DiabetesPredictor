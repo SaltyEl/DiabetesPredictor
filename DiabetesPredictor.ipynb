{
  "cells": [
    {
      "cell_type": "markdown",
      "metadata": {
        "id": "view-in-github",
        "colab_type": "text"
      },
      "source": [
        "<a href=\"https://colab.research.google.com/github/SaltyEl/DiabetesPredictor/blob/main/DiabetesPredictor.ipynb\" target=\"_parent\"><img src=\"https://colab.research.google.com/assets/colab-badge.svg\" alt=\"Open In Colab\"/></a>"
      ]
    },
    {
      "cell_type": "markdown",
      "id": "75fb1db5-671d-450d-8bcd-e3335a9c9c75",
      "metadata": {
        "id": "75fb1db5-671d-450d-8bcd-e3335a9c9c75"
      },
      "source": [
        "# Predicting Diabetes\n",
        "\n",
        "### Purpose and Goals\n",
        "\n",
        "The purpose of this web application is to provide a tool for identifying diabetes and to explain which machine learning model was chosen to power the tool and why. The purpose of this diabetes identification tool is to identify clients with diabetes who may have previously been missed so that they can begin proper treatment.\n",
        "\n",
        "### Definition of Success\n",
        "This tool was originally intended to identify with at least 75% accuracy whether or not a client is likely to have diabetes. This tool performs above that metric, with a cross-validated accuracy score of around 77%.\n",
        "\n",
        "### Data Dictionary\n",
        "\n",
        "* Pregnancies: Number of times the person has been pregnant.\n",
        "\n",
        "* Glucose: The results of an oral glucose tolerance test at 2 hours (Glucose in milligrams/deciliter).\n",
        "\n",
        "* BloodPressure: The diastolic blood pressure in mmHg\n",
        "\n",
        "* SkinThickness: Tricep skin fold thickness in millimeters.\n",
        "\n",
        "* Insulin: 2-hour post glucose insulin levels (a predictor for insulin resistance).\n",
        "\n",
        "* BMI: The body mass index (a value derived from weight and height).\n",
        "    * Less than 18.5 is underweight.\n",
        "    * 18.5 - 24.9 is normal.\n",
        "    * 25 - 29.9 is overweight.\n",
        "    * 30 - 34.9 is obese.\n",
        "    * Greater than 35 is morbidly obese.\n",
        "\n",
        "* DiabetesPedigreeFunction: The diabetes pedigree function is calculated using the client's age and diabetic family history.\n",
        "\n",
        "* Age: The age of the person.\n",
        "\n",
        "* Outcome: 1 means the person has diabetes and 2 means the person does not have diabetes."
      ]
    },
    {
      "cell_type": "code",
      "execution_count": null,
      "id": "3bc0e521-efe9-465d-bc76-3c2386072aa4",
      "metadata": {
        "id": "3bc0e521-efe9-465d-bc76-3c2386072aa4"
      },
      "outputs": [],
      "source": [
        "# Import tools\n",
        "import pandas as pd\n",
        "import matplotlib.pyplot as plt\n",
        "import numpy as np\n",
        "import seaborn as sns\n",
        "import ipywidgets as widgets\n",
        "from IPython.display import display\n",
        "\n",
        "# Import models\n",
        "from sklearn.ensemble import RandomForestClassifier\n",
        "from sklearn.linear_model import LogisticRegression\n",
        "from sklearn.svm import LinearSVC\n",
        "from sklearn.neighbors import KNeighborsClassifier\n",
        "\n",
        "# Import Model Evaluators\n",
        "from sklearn.model_selection import train_test_split, cross_val_score, RandomizedSearchCV, GridSearchCV\n",
        "from sklearn.metrics import precision_score, recall_score, f1_score\n",
        "from sklearn.metrics import RocCurveDisplay, confusion_matrix"
      ]
    },
    {
      "cell_type": "markdown",
      "id": "f13eaab6-0126-43e6-aa1b-eaa61e148ebe",
      "metadata": {
        "id": "f13eaab6-0126-43e6-aa1b-eaa61e148ebe"
      },
      "source": [
        "## Load and Explore Data"
      ]
    },
    {
      "cell_type": "markdown",
      "id": "e81aa628-aafb-4080-a4b5-3a3aab96a989",
      "metadata": {
        "id": "e81aa628-aafb-4080-a4b5-3a3aab96a989"
      },
      "source": [
        "Explore the topmost portion of the data to gain an understanding of dependent and independent variables:"
      ]
    },
    {
      "cell_type": "code",
      "execution_count": null,
      "id": "983700b8-a257-48a8-9657-18d122a49f95",
      "metadata": {
        "colab": {
          "base_uri": "https://localhost:8080/",
          "height": 206
        },
        "id": "983700b8-a257-48a8-9657-18d122a49f95",
        "outputId": "28e04e4f-4bee-4391-f614-cec584dc5576"
      },
      "outputs": [
        {
          "output_type": "execute_result",
          "data": {
            "text/plain": [
              "   Pregnancies  Glucose  BloodPressure  SkinThickness  Insulin   BMI  \\\n",
              "0            6      148             72             35        0  33.6   \n",
              "1            1       85             66             29        0  26.6   \n",
              "2            8      183             64              0        0  23.3   \n",
              "3            1       89             66             23       94  28.1   \n",
              "4            0      137             40             35      168  43.1   \n",
              "\n",
              "   DiabetesPedigreeFunction  Age  Outcome  \n",
              "0                     0.627   50        1  \n",
              "1                     0.351   31        0  \n",
              "2                     0.672   32        1  \n",
              "3                     0.167   21        0  \n",
              "4                     2.288   33        1  "
            ],
            "text/html": [
              "\n",
              "  <div id=\"df-8ae45c71-97ca-4144-97fb-5277c9a55d9e\" class=\"colab-df-container\">\n",
              "    <div>\n",
              "<style scoped>\n",
              "    .dataframe tbody tr th:only-of-type {\n",
              "        vertical-align: middle;\n",
              "    }\n",
              "\n",
              "    .dataframe tbody tr th {\n",
              "        vertical-align: top;\n",
              "    }\n",
              "\n",
              "    .dataframe thead th {\n",
              "        text-align: right;\n",
              "    }\n",
              "</style>\n",
              "<table border=\"1\" class=\"dataframe\">\n",
              "  <thead>\n",
              "    <tr style=\"text-align: right;\">\n",
              "      <th></th>\n",
              "      <th>Pregnancies</th>\n",
              "      <th>Glucose</th>\n",
              "      <th>BloodPressure</th>\n",
              "      <th>SkinThickness</th>\n",
              "      <th>Insulin</th>\n",
              "      <th>BMI</th>\n",
              "      <th>DiabetesPedigreeFunction</th>\n",
              "      <th>Age</th>\n",
              "      <th>Outcome</th>\n",
              "    </tr>\n",
              "  </thead>\n",
              "  <tbody>\n",
              "    <tr>\n",
              "      <th>0</th>\n",
              "      <td>6</td>\n",
              "      <td>148</td>\n",
              "      <td>72</td>\n",
              "      <td>35</td>\n",
              "      <td>0</td>\n",
              "      <td>33.6</td>\n",
              "      <td>0.627</td>\n",
              "      <td>50</td>\n",
              "      <td>1</td>\n",
              "    </tr>\n",
              "    <tr>\n",
              "      <th>1</th>\n",
              "      <td>1</td>\n",
              "      <td>85</td>\n",
              "      <td>66</td>\n",
              "      <td>29</td>\n",
              "      <td>0</td>\n",
              "      <td>26.6</td>\n",
              "      <td>0.351</td>\n",
              "      <td>31</td>\n",
              "      <td>0</td>\n",
              "    </tr>\n",
              "    <tr>\n",
              "      <th>2</th>\n",
              "      <td>8</td>\n",
              "      <td>183</td>\n",
              "      <td>64</td>\n",
              "      <td>0</td>\n",
              "      <td>0</td>\n",
              "      <td>23.3</td>\n",
              "      <td>0.672</td>\n",
              "      <td>32</td>\n",
              "      <td>1</td>\n",
              "    </tr>\n",
              "    <tr>\n",
              "      <th>3</th>\n",
              "      <td>1</td>\n",
              "      <td>89</td>\n",
              "      <td>66</td>\n",
              "      <td>23</td>\n",
              "      <td>94</td>\n",
              "      <td>28.1</td>\n",
              "      <td>0.167</td>\n",
              "      <td>21</td>\n",
              "      <td>0</td>\n",
              "    </tr>\n",
              "    <tr>\n",
              "      <th>4</th>\n",
              "      <td>0</td>\n",
              "      <td>137</td>\n",
              "      <td>40</td>\n",
              "      <td>35</td>\n",
              "      <td>168</td>\n",
              "      <td>43.1</td>\n",
              "      <td>2.288</td>\n",
              "      <td>33</td>\n",
              "      <td>1</td>\n",
              "    </tr>\n",
              "  </tbody>\n",
              "</table>\n",
              "</div>\n",
              "    <div class=\"colab-df-buttons\">\n",
              "\n",
              "  <div class=\"colab-df-container\">\n",
              "    <button class=\"colab-df-convert\" onclick=\"convertToInteractive('df-8ae45c71-97ca-4144-97fb-5277c9a55d9e')\"\n",
              "            title=\"Convert this dataframe to an interactive table.\"\n",
              "            style=\"display:none;\">\n",
              "\n",
              "  <svg xmlns=\"http://www.w3.org/2000/svg\" height=\"24px\" viewBox=\"0 -960 960 960\">\n",
              "    <path d=\"M120-120v-720h720v720H120Zm60-500h600v-160H180v160Zm220 220h160v-160H400v160Zm0 220h160v-160H400v160ZM180-400h160v-160H180v160Zm440 0h160v-160H620v160ZM180-180h160v-160H180v160Zm440 0h160v-160H620v160Z\"/>\n",
              "  </svg>\n",
              "    </button>\n",
              "\n",
              "  <style>\n",
              "    .colab-df-container {\n",
              "      display:flex;\n",
              "      gap: 12px;\n",
              "    }\n",
              "\n",
              "    .colab-df-convert {\n",
              "      background-color: #E8F0FE;\n",
              "      border: none;\n",
              "      border-radius: 50%;\n",
              "      cursor: pointer;\n",
              "      display: none;\n",
              "      fill: #1967D2;\n",
              "      height: 32px;\n",
              "      padding: 0 0 0 0;\n",
              "      width: 32px;\n",
              "    }\n",
              "\n",
              "    .colab-df-convert:hover {\n",
              "      background-color: #E2EBFA;\n",
              "      box-shadow: 0px 1px 2px rgba(60, 64, 67, 0.3), 0px 1px 3px 1px rgba(60, 64, 67, 0.15);\n",
              "      fill: #174EA6;\n",
              "    }\n",
              "\n",
              "    .colab-df-buttons div {\n",
              "      margin-bottom: 4px;\n",
              "    }\n",
              "\n",
              "    [theme=dark] .colab-df-convert {\n",
              "      background-color: #3B4455;\n",
              "      fill: #D2E3FC;\n",
              "    }\n",
              "\n",
              "    [theme=dark] .colab-df-convert:hover {\n",
              "      background-color: #434B5C;\n",
              "      box-shadow: 0px 1px 3px 1px rgba(0, 0, 0, 0.15);\n",
              "      filter: drop-shadow(0px 1px 2px rgba(0, 0, 0, 0.3));\n",
              "      fill: #FFFFFF;\n",
              "    }\n",
              "  </style>\n",
              "\n",
              "    <script>\n",
              "      const buttonEl =\n",
              "        document.querySelector('#df-8ae45c71-97ca-4144-97fb-5277c9a55d9e button.colab-df-convert');\n",
              "      buttonEl.style.display =\n",
              "        google.colab.kernel.accessAllowed ? 'block' : 'none';\n",
              "\n",
              "      async function convertToInteractive(key) {\n",
              "        const element = document.querySelector('#df-8ae45c71-97ca-4144-97fb-5277c9a55d9e');\n",
              "        const dataTable =\n",
              "          await google.colab.kernel.invokeFunction('convertToInteractive',\n",
              "                                                    [key], {});\n",
              "        if (!dataTable) return;\n",
              "\n",
              "        const docLinkHtml = 'Like what you see? Visit the ' +\n",
              "          '<a target=\"_blank\" href=https://colab.research.google.com/notebooks/data_table.ipynb>data table notebook</a>'\n",
              "          + ' to learn more about interactive tables.';\n",
              "        element.innerHTML = '';\n",
              "        dataTable['output_type'] = 'display_data';\n",
              "        await google.colab.output.renderOutput(dataTable, element);\n",
              "        const docLink = document.createElement('div');\n",
              "        docLink.innerHTML = docLinkHtml;\n",
              "        element.appendChild(docLink);\n",
              "      }\n",
              "    </script>\n",
              "  </div>\n",
              "\n",
              "\n",
              "<div id=\"df-f0b2d7ad-93fa-429a-bf91-b462bcde2777\">\n",
              "  <button class=\"colab-df-quickchart\" onclick=\"quickchart('df-f0b2d7ad-93fa-429a-bf91-b462bcde2777')\"\n",
              "            title=\"Suggest charts\"\n",
              "            style=\"display:none;\">\n",
              "\n",
              "<svg xmlns=\"http://www.w3.org/2000/svg\" height=\"24px\"viewBox=\"0 0 24 24\"\n",
              "     width=\"24px\">\n",
              "    <g>\n",
              "        <path d=\"M19 3H5c-1.1 0-2 .9-2 2v14c0 1.1.9 2 2 2h14c1.1 0 2-.9 2-2V5c0-1.1-.9-2-2-2zM9 17H7v-7h2v7zm4 0h-2V7h2v10zm4 0h-2v-4h2v4z\"/>\n",
              "    </g>\n",
              "</svg>\n",
              "  </button>\n",
              "\n",
              "<style>\n",
              "  .colab-df-quickchart {\n",
              "      --bg-color: #E8F0FE;\n",
              "      --fill-color: #1967D2;\n",
              "      --hover-bg-color: #E2EBFA;\n",
              "      --hover-fill-color: #174EA6;\n",
              "      --disabled-fill-color: #AAA;\n",
              "      --disabled-bg-color: #DDD;\n",
              "  }\n",
              "\n",
              "  [theme=dark] .colab-df-quickchart {\n",
              "      --bg-color: #3B4455;\n",
              "      --fill-color: #D2E3FC;\n",
              "      --hover-bg-color: #434B5C;\n",
              "      --hover-fill-color: #FFFFFF;\n",
              "      --disabled-bg-color: #3B4455;\n",
              "      --disabled-fill-color: #666;\n",
              "  }\n",
              "\n",
              "  .colab-df-quickchart {\n",
              "    background-color: var(--bg-color);\n",
              "    border: none;\n",
              "    border-radius: 50%;\n",
              "    cursor: pointer;\n",
              "    display: none;\n",
              "    fill: var(--fill-color);\n",
              "    height: 32px;\n",
              "    padding: 0;\n",
              "    width: 32px;\n",
              "  }\n",
              "\n",
              "  .colab-df-quickchart:hover {\n",
              "    background-color: var(--hover-bg-color);\n",
              "    box-shadow: 0 1px 2px rgba(60, 64, 67, 0.3), 0 1px 3px 1px rgba(60, 64, 67, 0.15);\n",
              "    fill: var(--button-hover-fill-color);\n",
              "  }\n",
              "\n",
              "  .colab-df-quickchart-complete:disabled,\n",
              "  .colab-df-quickchart-complete:disabled:hover {\n",
              "    background-color: var(--disabled-bg-color);\n",
              "    fill: var(--disabled-fill-color);\n",
              "    box-shadow: none;\n",
              "  }\n",
              "\n",
              "  .colab-df-spinner {\n",
              "    border: 2px solid var(--fill-color);\n",
              "    border-color: transparent;\n",
              "    border-bottom-color: var(--fill-color);\n",
              "    animation:\n",
              "      spin 1s steps(1) infinite;\n",
              "  }\n",
              "\n",
              "  @keyframes spin {\n",
              "    0% {\n",
              "      border-color: transparent;\n",
              "      border-bottom-color: var(--fill-color);\n",
              "      border-left-color: var(--fill-color);\n",
              "    }\n",
              "    20% {\n",
              "      border-color: transparent;\n",
              "      border-left-color: var(--fill-color);\n",
              "      border-top-color: var(--fill-color);\n",
              "    }\n",
              "    30% {\n",
              "      border-color: transparent;\n",
              "      border-left-color: var(--fill-color);\n",
              "      border-top-color: var(--fill-color);\n",
              "      border-right-color: var(--fill-color);\n",
              "    }\n",
              "    40% {\n",
              "      border-color: transparent;\n",
              "      border-right-color: var(--fill-color);\n",
              "      border-top-color: var(--fill-color);\n",
              "    }\n",
              "    60% {\n",
              "      border-color: transparent;\n",
              "      border-right-color: var(--fill-color);\n",
              "    }\n",
              "    80% {\n",
              "      border-color: transparent;\n",
              "      border-right-color: var(--fill-color);\n",
              "      border-bottom-color: var(--fill-color);\n",
              "    }\n",
              "    90% {\n",
              "      border-color: transparent;\n",
              "      border-bottom-color: var(--fill-color);\n",
              "    }\n",
              "  }\n",
              "</style>\n",
              "\n",
              "  <script>\n",
              "    async function quickchart(key) {\n",
              "      const quickchartButtonEl =\n",
              "        document.querySelector('#' + key + ' button');\n",
              "      quickchartButtonEl.disabled = true;  // To prevent multiple clicks.\n",
              "      quickchartButtonEl.classList.add('colab-df-spinner');\n",
              "      try {\n",
              "        const charts = await google.colab.kernel.invokeFunction(\n",
              "            'suggestCharts', [key], {});\n",
              "      } catch (error) {\n",
              "        console.error('Error during call to suggestCharts:', error);\n",
              "      }\n",
              "      quickchartButtonEl.classList.remove('colab-df-spinner');\n",
              "      quickchartButtonEl.classList.add('colab-df-quickchart-complete');\n",
              "    }\n",
              "    (() => {\n",
              "      let quickchartButtonEl =\n",
              "        document.querySelector('#df-f0b2d7ad-93fa-429a-bf91-b462bcde2777 button');\n",
              "      quickchartButtonEl.style.display =\n",
              "        google.colab.kernel.accessAllowed ? 'block' : 'none';\n",
              "    })();\n",
              "  </script>\n",
              "</div>\n",
              "\n",
              "    </div>\n",
              "  </div>\n"
            ],
            "application/vnd.google.colaboratory.intrinsic+json": {
              "type": "dataframe",
              "variable_name": "diabetes_data",
              "summary": "{\n  \"name\": \"diabetes_data\",\n  \"rows\": 768,\n  \"fields\": [\n    {\n      \"column\": \"Pregnancies\",\n      \"properties\": {\n        \"dtype\": \"number\",\n        \"std\": 3,\n        \"min\": 0,\n        \"max\": 17,\n        \"num_unique_values\": 17,\n        \"samples\": [\n          6,\n          1,\n          3\n        ],\n        \"semantic_type\": \"\",\n        \"description\": \"\"\n      }\n    },\n    {\n      \"column\": \"Glucose\",\n      \"properties\": {\n        \"dtype\": \"number\",\n        \"std\": 31,\n        \"min\": 0,\n        \"max\": 199,\n        \"num_unique_values\": 136,\n        \"samples\": [\n          151,\n          101,\n          112\n        ],\n        \"semantic_type\": \"\",\n        \"description\": \"\"\n      }\n    },\n    {\n      \"column\": \"BloodPressure\",\n      \"properties\": {\n        \"dtype\": \"number\",\n        \"std\": 19,\n        \"min\": 0,\n        \"max\": 122,\n        \"num_unique_values\": 47,\n        \"samples\": [\n          86,\n          46,\n          85\n        ],\n        \"semantic_type\": \"\",\n        \"description\": \"\"\n      }\n    },\n    {\n      \"column\": \"SkinThickness\",\n      \"properties\": {\n        \"dtype\": \"number\",\n        \"std\": 15,\n        \"min\": 0,\n        \"max\": 99,\n        \"num_unique_values\": 51,\n        \"samples\": [\n          7,\n          12,\n          48\n        ],\n        \"semantic_type\": \"\",\n        \"description\": \"\"\n      }\n    },\n    {\n      \"column\": \"Insulin\",\n      \"properties\": {\n        \"dtype\": \"number\",\n        \"std\": 115,\n        \"min\": 0,\n        \"max\": 846,\n        \"num_unique_values\": 186,\n        \"samples\": [\n          52,\n          41,\n          183\n        ],\n        \"semantic_type\": \"\",\n        \"description\": \"\"\n      }\n    },\n    {\n      \"column\": \"BMI\",\n      \"properties\": {\n        \"dtype\": \"number\",\n        \"std\": 7.884160320375446,\n        \"min\": 0.0,\n        \"max\": 67.1,\n        \"num_unique_values\": 248,\n        \"samples\": [\n          19.9,\n          31.0,\n          38.1\n        ],\n        \"semantic_type\": \"\",\n        \"description\": \"\"\n      }\n    },\n    {\n      \"column\": \"DiabetesPedigreeFunction\",\n      \"properties\": {\n        \"dtype\": \"number\",\n        \"std\": 0.3313285950127749,\n        \"min\": 0.078,\n        \"max\": 2.42,\n        \"num_unique_values\": 517,\n        \"samples\": [\n          1.731,\n          0.426,\n          0.138\n        ],\n        \"semantic_type\": \"\",\n        \"description\": \"\"\n      }\n    },\n    {\n      \"column\": \"Age\",\n      \"properties\": {\n        \"dtype\": \"number\",\n        \"std\": 11,\n        \"min\": 21,\n        \"max\": 81,\n        \"num_unique_values\": 52,\n        \"samples\": [\n          60,\n          47,\n          72\n        ],\n        \"semantic_type\": \"\",\n        \"description\": \"\"\n      }\n    },\n    {\n      \"column\": \"Outcome\",\n      \"properties\": {\n        \"dtype\": \"number\",\n        \"std\": 0,\n        \"min\": 0,\n        \"max\": 1,\n        \"num_unique_values\": 2,\n        \"samples\": [\n          0,\n          1\n        ],\n        \"semantic_type\": \"\",\n        \"description\": \"\"\n      }\n    }\n  ]\n}"
            }
          },
          "metadata": {},
          "execution_count": 2
        }
      ],
      "source": [
        "diabetes_data = pd.read_csv('diabetes.csv')\n",
        "diabetes_data.head()"
      ]
    },
    {
      "cell_type": "markdown",
      "id": "8d9ea1b6-0d6b-4327-bac5-a99b24190451",
      "metadata": {
        "id": "8d9ea1b6-0d6b-4327-bac5-a99b24190451"
      },
      "source": [
        "Number of client's in the data:"
      ]
    },
    {
      "cell_type": "code",
      "execution_count": null,
      "id": "7298a0eb-6180-4a20-8e01-832a54e4c200",
      "metadata": {
        "id": "7298a0eb-6180-4a20-8e01-832a54e4c200",
        "colab": {
          "base_uri": "https://localhost:8080/"
        },
        "outputId": "dcf4ebb2-e399-427a-f1a2-a36b145f7883"
      },
      "outputs": [
        {
          "output_type": "execute_result",
          "data": {
            "text/plain": [
              "768"
            ]
          },
          "metadata": {},
          "execution_count": 3
        }
      ],
      "source": [
        "len(diabetes_data)"
      ]
    },
    {
      "cell_type": "markdown",
      "id": "3c1ce560-f3b9-42d1-bde2-d8d7451337ee",
      "metadata": {
        "id": "3c1ce560-f3b9-42d1-bde2-d8d7451337ee"
      },
      "source": [
        "Check for any missing data:"
      ]
    },
    {
      "cell_type": "code",
      "execution_count": null,
      "id": "2221b1f1-889b-41aa-aea4-030b6d8c55c8",
      "metadata": {
        "id": "2221b1f1-889b-41aa-aea4-030b6d8c55c8",
        "colab": {
          "base_uri": "https://localhost:8080/"
        },
        "outputId": "259b3ae4-81d2-48e6-f533-2d79bf2a2ac6"
      },
      "outputs": [
        {
          "output_type": "execute_result",
          "data": {
            "text/plain": [
              "Pregnancies                 0\n",
              "Glucose                     0\n",
              "BloodPressure               0\n",
              "SkinThickness               0\n",
              "Insulin                     0\n",
              "BMI                         0\n",
              "DiabetesPedigreeFunction    0\n",
              "Age                         0\n",
              "Outcome                     0\n",
              "dtype: int64"
            ]
          },
          "metadata": {},
          "execution_count": 4
        }
      ],
      "source": [
        "diabetes_data.isna().sum()"
      ]
    },
    {
      "cell_type": "markdown",
      "id": "818a3f36-1315-4a4c-a696-9156a35deafd",
      "metadata": {
        "id": "818a3f36-1315-4a4c-a696-9156a35deafd"
      },
      "source": [
        "Check data types for any types that would need to be converted:"
      ]
    },
    {
      "cell_type": "code",
      "execution_count": null,
      "id": "13b15250-395f-4923-95f6-4fd6827ae503",
      "metadata": {
        "id": "13b15250-395f-4923-95f6-4fd6827ae503",
        "colab": {
          "base_uri": "https://localhost:8080/"
        },
        "outputId": "fbea88d7-9c87-4790-a401-c41568bee757"
      },
      "outputs": [
        {
          "output_type": "execute_result",
          "data": {
            "text/plain": [
              "Pregnancies                   int64\n",
              "Glucose                       int64\n",
              "BloodPressure                 int64\n",
              "SkinThickness                 int64\n",
              "Insulin                       int64\n",
              "BMI                         float64\n",
              "DiabetesPedigreeFunction    float64\n",
              "Age                           int64\n",
              "Outcome                       int64\n",
              "dtype: object"
            ]
          },
          "metadata": {},
          "execution_count": 5
        }
      ],
      "source": [
        "diabetes_data.dtypes"
      ]
    },
    {
      "cell_type": "markdown",
      "id": "839ffac7-4a54-4cea-96e8-a904a3ce724e",
      "metadata": {
        "id": "839ffac7-4a54-4cea-96e8-a904a3ce724e"
      },
      "source": [
        "Lets view how many of each outcome exists:"
      ]
    },
    {
      "cell_type": "code",
      "execution_count": null,
      "id": "1b4236a6-4962-43ec-8963-a4af39cf0447",
      "metadata": {
        "id": "1b4236a6-4962-43ec-8963-a4af39cf0447",
        "colab": {
          "base_uri": "https://localhost:8080/",
          "height": 472
        },
        "outputId": "f4215ab9-4d35-400f-8c0e-6f5a6d4ccf98"
      },
      "outputs": [
        {
          "output_type": "display_data",
          "data": {
            "text/plain": [
              "<Figure size 640x480 with 1 Axes>"
            ],
            "image/png": "[encoded data removed]"
          },
          "metadata": {}
        }
      ],
      "source": [
        "diabetes_data[\"Outcome\"].value_counts().plot(kind=\"bar\", color=[\"Blue\",\"Red\"], legend=False)\n",
        "plt.title(\"Outcome Value Counts\")\n",
        "plt.xlabel(\"Outcome\")\n",
        "plt.ylabel(\"Number of Cases (Hundreds)\")\n",
        "plt.xticks(ticks=[0, 1],\n",
        "           labels=[\"No Diabetes\", \"Diabetes\"],\n",
        "          rotation=0);"
      ]
    },
    {
      "cell_type": "markdown",
      "id": "700b9bea-399a-42ba-9725-7ffe1ae0a009",
      "metadata": {
        "id": "700b9bea-399a-42ba-9725-7ffe1ae0a009"
      },
      "source": [
        "Let's visualize how Glucose and Insulin levels (from Glucose Tolerance Test) impact the Outcome"
      ]
    },
    {
      "cell_type": "code",
      "execution_count": null,
      "id": "ad1bb44b-b7e0-4fa4-afe2-68d9df8eb147",
      "metadata": {
        "id": "ad1bb44b-b7e0-4fa4-afe2-68d9df8eb147",
        "colab": {
          "base_uri": "https://localhost:8080/",
          "height": 1000
        },
        "outputId": "1ff0d346-917f-4067-808e-8a40953c7568"
      },
      "outputs": [
        {
          "output_type": "display_data",
          "data": {
            "text/plain": [
              "<Figure size 1000x1500 with 2 Axes>"
            ],
            "image/png": "[encoded data removed]"
          },
          "metadata": {}
        }
      ],
      "source": [
        "# Create a figure and 2 axes.\n",
        "fig, (ax1, ax2) = plt.subplots(2, 1, figsize= (10,15))\n",
        "\n",
        "# Set X_ticks and X_labls\n",
        "x_ticks = [0,1]\n",
        "x_labels = [\"No Diabetes\", \"Diabetes\"]\n",
        "\n",
        "# Create a boxplot for each set of data and assign it to the appropriate axis.\n",
        "sns.boxplot(x=diabetes_data.Outcome, y=diabetes_data.Glucose, ax=ax1)\n",
        "sns.boxplot(x=diabetes_data.Outcome, y=diabetes_data.Insulin, ax=ax2)\n",
        "\n",
        "# Customize ax1\n",
        "ax1.set_title(\"Glucose Levels Impact on Diabetes Diagnosis\")\n",
        "ax1.set_xticks(ticks=x_ticks, labels=x_labels)\n",
        "ax1.set_xlabel('')\n",
        "\n",
        "# Customize ax2\n",
        "ax2.set_title(\"Insulin Levels Impact on Diabetes Diagnosis\")\n",
        "ax2.set_xticks(ticks=x_ticks, labels=x_labels)\n",
        "\n",
        "# Set xlabel and show plot.\n",
        "plt.xlabel('Outcome')\n",
        "plt.show();"
      ]
    },
    {
      "cell_type": "markdown",
      "id": "e51c1137-6b69-44fd-9ff2-5450cf204222",
      "metadata": {
        "id": "e51c1137-6b69-44fd-9ff2-5450cf204222"
      },
      "source": [
        "Lets check the distribution of age in the data provided:"
      ]
    },
    {
      "cell_type": "code",
      "execution_count": null,
      "id": "1c14b219-6b27-4fef-8f10-eced5764a570",
      "metadata": {
        "id": "1c14b219-6b27-4fef-8f10-eced5764a570",
        "colab": {
          "base_uri": "https://localhost:8080/",
          "height": 430
        },
        "outputId": "22aead4e-c15a-4402-ed83-11a8d547f401"
      },
      "outputs": [
        {
          "output_type": "display_data",
          "data": {
            "text/plain": [
              "<Figure size 640x480 with 1 Axes>"
            ],
            "image/png": "[encoded data removed]"
          },
          "metadata": {}
        }
      ],
      "source": [
        "diabetes_data.Age.plot(kind='hist');"
      ]
    },
    {
      "cell_type": "markdown",
      "id": "1eaf3047-615c-4c30-87ea-6d1f5416aca9",
      "metadata": {
        "id": "1eaf3047-615c-4c30-87ea-6d1f5416aca9"
      },
      "source": [
        "## Prepare Data For Machine Learning\n",
        "\n",
        "DataFrames are created to store the dependent variables and independent variables separately.\n",
        "\n",
        "The Data is then split into training and testing sets."
      ]
    },
    {
      "cell_type": "code",
      "execution_count": null,
      "id": "74e6ea3a-1a7e-478f-9310-9c9299aea61b",
      "metadata": {
        "id": "74e6ea3a-1a7e-478f-9310-9c9299aea61b"
      },
      "outputs": [],
      "source": [
        "# Create dependent and independent data to work with.\n",
        "x = diabetes_data.drop(\"Outcome\", axis=1)\n",
        "y = diabetes_data[\"Outcome\"]"
      ]
    },
    {
      "cell_type": "code",
      "execution_count": null,
      "id": "11cd90d4-39f1-4e4f-89fa-aa45bf01c6f4",
      "metadata": {
        "id": "11cd90d4-39f1-4e4f-89fa-aa45bf01c6f4"
      },
      "outputs": [],
      "source": [
        "# Split data into training and test data.\n",
        "x_train, x_test, y_train, y_test = train_test_split(x, y, test_size=0.2)"
      ]
    },
    {
      "cell_type": "markdown",
      "id": "c4e295ad-1b7c-4d36-8299-1cf522443822",
      "metadata": {
        "id": "c4e295ad-1b7c-4d36-8299-1cf522443822"
      },
      "source": [
        "## Test Models\n",
        "\n",
        "Models being tested include:\n",
        "* Logistic Regression\n",
        "* K Nearest Neighbors Classifier\n",
        "* Random Forest Classifier\n",
        "* Linear SVC\n",
        "\n",
        "Each model is scored on it's accuracy, and the results are below."
      ]
    },
    {
      "cell_type": "code",
      "execution_count": null,
      "id": "53ffc4e1-ebd2-4623-9554-290658d1393a",
      "metadata": {
        "id": "53ffc4e1-ebd2-4623-9554-290658d1393a"
      },
      "outputs": [],
      "source": [
        "# Put Models in a dict\n",
        "models = {\"Logistic Regression\": LogisticRegression(max_iter=1000),\n",
        "         \"KNN\":KNeighborsClassifier(),\n",
        "         \"Random Forest\": RandomForestClassifier(),\n",
        "         \"Linear SVC\":LinearSVC(dual=False)}\n",
        "\n",
        "# Make a dict (using dict comprehension) to create and keep model scores.\n",
        "model_scores = {name: model.fit(x_train, y_train).score(x_test, y_test) for name, model in models.items()}"
      ]
    },
    {
      "cell_type": "code",
      "execution_count": null,
      "id": "3c1d2a4f-0670-46cf-9063-e44bc5245dd2",
      "metadata": {
        "id": "3c1d2a4f-0670-46cf-9063-e44bc5245dd2",
        "colab": {
          "base_uri": "https://localhost:8080/",
          "height": 545
        },
        "outputId": "4d845654-45a5-4c49-f3de-7ebecdfe5e73"
      },
      "outputs": [
        {
          "output_type": "display_data",
          "data": {
            "text/plain": [
              "<Figure size 1000x600 with 1 Axes>"
            ],
            "image/png": "[encoded data removed]"
          },
          "metadata": {}
        }
      ],
      "source": [
        "# Visualize each models performance\n",
        "model_scores_df = pd.DataFrame(model_scores, index=[\"Accuracy\"])\n",
        "model_scores_df.T.plot.bar(legend=False, figsize=(10,6))\n",
        "plt.title(\"Accuracy of Each Model\")\n",
        "plt.xticks(rotation=0);"
      ]
    },
    {
      "cell_type": "markdown",
      "id": "adc80ad4-c282-4b91-924d-45e0c4dd0d34",
      "metadata": {
        "id": "adc80ad4-c282-4b91-924d-45e0c4dd0d34"
      },
      "source": [
        "## Evaluate Best Models Beyond Accuracy\n",
        "\n",
        "Each model above performs adequately, but the Logistic Regression and Linear SVC models stand out as the best (on average)\n",
        "\n",
        "Evaluate the F1 Score, Recall, and Precision to see if either model can separate from the other in terms of performance.\n",
        "\n",
        "A visual of the results is below."
      ]
    },
    {
      "cell_type": "code",
      "execution_count": null,
      "id": "85675bf3-a360-4654-b887-46d24b8b0fc0",
      "metadata": {
        "id": "85675bf3-a360-4654-b887-46d24b8b0fc0"
      },
      "outputs": [],
      "source": [
        "# Create a function that can create a cross-validation scoring report of F1, Recall, Precision and Accuracy\n",
        "def cv_classification_report(model, x, y, num, scoring_list=None):\n",
        "    if scoring_list is None:\n",
        "        scoring_list = [\"accuracy\", \"precision\", \"recall\", \"f1\"]\n",
        "\n",
        "    scoring_dict = {metric.title(): np.mean(cross_val_score(model, x, y, cv=num, scoring=metric)) for metric in scoring_list}\n",
        "\n",
        "    return scoring_dict"
      ]
    },
    {
      "cell_type": "code",
      "execution_count": null,
      "id": "935c1e10-b14c-49cf-96ce-c78266f39967",
      "metadata": {
        "id": "935c1e10-b14c-49cf-96ce-c78266f39967"
      },
      "outputs": [],
      "source": [
        "# Use function to obtain scores of the Logistic Regression and Linear SVC Model\n",
        "LR_scoring_report = cv_classification_report(LogisticRegression(max_iter=1000), x, y, 5)\n",
        "Linear_scoring_report = cv_classification_report(LinearSVC(dual=False), x, y, 5)"
      ]
    },
    {
      "cell_type": "code",
      "source": [
        "LR_scoring_report"
      ],
      "metadata": {
        "colab": {
          "base_uri": "https://localhost:8080/"
        },
        "id": "WZ6bAleZadPb",
        "outputId": "7cdefbdb-e909-4741-82a5-fbde516390d6"
      },
      "id": "WZ6bAleZadPb",
      "execution_count": null,
      "outputs": [
        {
          "output_type": "execute_result",
          "data": {
            "text/plain": [
              "{'Accuracy': 0.7721925133689839,\n",
              " 'Precision': 0.7196000559468052,\n",
              " 'Recall': 0.5747030048916841,\n",
              " 'F1': 0.6374328442978329}"
            ]
          },
          "metadata": {},
          "execution_count": 21
        }
      ]
    },
    {
      "cell_type": "code",
      "execution_count": null,
      "id": "a93f4f30-8ed2-4fa0-be41-67d20ec26e5a",
      "metadata": {
        "id": "a93f4f30-8ed2-4fa0-be41-67d20ec26e5a",
        "colab": {
          "base_uri": "https://localhost:8080/",
          "height": 564
        },
        "outputId": "40a95f08-a700-4176-dd56-3f265f5b9322"
      },
      "outputs": [
        {
          "output_type": "display_data",
          "data": {
            "text/plain": [
              "<Figure size 1000x600 with 1 Axes>"
            ],
            "image/png": "[encoded data removed]"
          },
          "metadata": {}
        }
      ],
      "source": [
        "# Let's visualize cross-validated metrics for Logistic Regression and Linear SVC\n",
        "\n",
        "# Seperate values from keys\n",
        "keys = list(LR_scoring_report.keys())\n",
        "log_reg_values = list(LR_scoring_report.values())\n",
        "lin_svc_values = list(Linear_scoring_report.values())\n",
        "\n",
        "# Index and Bar width\n",
        "index = np.arange(len(keys))\n",
        "bar_width = 0.35\n",
        "\n",
        "# Create a figure and 2 axes.\n",
        "fig, ax = plt.subplots(figsize=(10,6))\n",
        "\n",
        "ax.bar(index, log_reg_values, bar_width, label='Logistic Regression')\n",
        "ax.bar(index + bar_width, lin_svc_values, bar_width, label='Linear SVC')\n",
        "ax.legend()\n",
        "ax.set_xlabel(\"Metrics\")\n",
        "ax.set_ylabel(\"Score\")\n",
        "ax.set_title(\"Comparison of Cross-Validated Logistic Regression and Linear SVC Metrics\")\n",
        "ax.set_xticks(index + bar_width / 2)\n",
        "ax.set_xticklabels(keys);"
      ]
    },
    {
      "cell_type": "markdown",
      "id": "4f5af579-d98a-43cb-b625-16beef09bfc0",
      "metadata": {
        "id": "4f5af579-d98a-43cb-b625-16beef09bfc0"
      },
      "source": [
        "## Evaluate Logistic Regression Model Further\n",
        "\n",
        "As shown above, a cross-validated version of Logistic Regression narrowly edges out a cross-validated version of Linear SVC in terms of Accuracy, Precision, Recall and F1. We will offically fit a Logistic Regression model to the data to be further evaluated and used in the application of identifying diabetic clients.\n",
        "\n",
        "Further evaluate Logistic Regression Model using:\n",
        "* ROC Curve and AUC Score\n",
        "* Confusion Matrix\n",
        "\n",
        "Visuals of metric curve are provided below."
      ]
    },
    {
      "cell_type": "code",
      "execution_count": null,
      "id": "64b6473c-4584-4d4d-8786-fd9e6ade5ac9",
      "metadata": {
        "id": "64b6473c-4584-4d4d-8786-fd9e6ade5ac9"
      },
      "outputs": [],
      "source": [
        "# Create, fit and predict the model\n",
        "\n",
        "clf = LogisticRegression(max_iter=1000)\n",
        "clf.fit(x_train, y_train)\n",
        "y_preds = clf.predict(x_test)"
      ]
    },
    {
      "cell_type": "markdown",
      "id": "bce1a622-146b-4079-b8f5-4d0a411434dc",
      "metadata": {
        "id": "bce1a622-146b-4079-b8f5-4d0a411434dc"
      },
      "source": [
        "The ROC Curve shows an Area Under Curve (AUC) score of 0.86"
      ]
    },
    {
      "cell_type": "code",
      "execution_count": null,
      "id": "cc9db458-1379-4c81-9c38-81d5ab696774",
      "metadata": {
        "id": "cc9db458-1379-4c81-9c38-81d5ab696774",
        "colab": {
          "base_uri": "https://localhost:8080/",
          "height": 449
        },
        "outputId": "bbb065d1-e99a-45a8-d27c-ce12f8ae501c"
      },
      "outputs": [
        {
          "output_type": "display_data",
          "data": {
            "text/plain": [
              "<Figure size 640x480 with 1 Axes>"
            ],
            "image/png": "[encoded data removed]"
          },
          "metadata": {}
        }
      ],
      "source": [
        "# Create ROC Curve\n",
        "RocCurveDisplay.from_estimator(clf, x_train, y_train);"
      ]
    },
    {
      "cell_type": "markdown",
      "id": "fefd7189-21fd-4fb8-a801-bf515ec06975",
      "metadata": {
        "id": "fefd7189-21fd-4fb8-a801-bf515ec06975"
      },
      "source": [
        "The confusion matrix compares the number of True positives, false positive, true negatives and false negatives"
      ]
    },
    {
      "cell_type": "code",
      "execution_count": null,
      "id": "297a8d2c-5f75-41a6-a5b1-2c60cdde60b7",
      "metadata": {
        "id": "297a8d2c-5f75-41a6-a5b1-2c60cdde60b7",
        "colab": {
          "base_uri": "https://localhost:8080/",
          "height": 472
        },
        "outputId": "27ebc470-8354-4551-bb7a-a7faff998b11"
      },
      "outputs": [
        {
          "output_type": "display_data",
          "data": {
            "text/plain": [
              "<Figure size 640x480 with 1 Axes>"
            ],
            "image/png": "[encoded data removed]"
          },
          "metadata": {}
        }
      ],
      "source": [
        "# Create Confusion Matrix to evaluate tr\n",
        "sns.set(font_scale=1.5)\n",
        "\n",
        "fig, ax = plt.subplots()\n",
        "ax = sns.heatmap(confusion_matrix(y_test, y_preds),\n",
        "                annot=True,\n",
        "                cbar=False)\n",
        "plt.xlabel(\"Predicted Label\")\n",
        "plt.ylabel(\"True Label\");"
      ]
    },
    {
      "cell_type": "code",
      "execution_count": null,
      "id": "90ae346a-50d0-4395-9e2d-8a7fdf32b416",
      "metadata": {
        "id": "90ae346a-50d0-4395-9e2d-8a7fdf32b416",
        "colab": {
          "base_uri": "https://localhost:8080/",
          "height": 206
        },
        "outputId": "b4c44f9a-3aae-4e68-b241-faf89f43c722"
      },
      "outputs": [
        {
          "output_type": "execute_result",
          "data": {
            "text/plain": [
              "   Pregnancies  Glucose  BloodPressure  SkinThickness  Insulin   BMI  \\\n",
              "0            6      148             72             35        0  33.6   \n",
              "1            1       85             66             29        0  26.6   \n",
              "2            8      183             64              0        0  23.3   \n",
              "3            1       89             66             23       94  28.1   \n",
              "4            0      137             40             35      168  43.1   \n",
              "\n",
              "   DiabetesPedigreeFunction  Age  Outcome  \n",
              "0                     0.627   50        1  \n",
              "1                     0.351   31        0  \n",
              "2                     0.672   32        1  \n",
              "3                     0.167   21        0  \n",
              "4                     2.288   33        1  "
            ],
            "text/html": [
              "\n",
              "  <div id=\"df-d3e0b403-590b-4db1-b450-b10721ff07eb\" class=\"colab-df-container\">\n",
              "    <div>\n",
              "<style scoped>\n",
              "    .dataframe tbody tr th:only-of-type {\n",
              "        vertical-align: middle;\n",
              "    }\n",
              "\n",
              "    .dataframe tbody tr th {\n",
              "        vertical-align: top;\n",
              "    }\n",
              "\n",
              "    .dataframe thead th {\n",
              "        text-align: right;\n",
              "    }\n",
              "</style>\n",
              "<table border=\"1\" class=\"dataframe\">\n",
              "  <thead>\n",
              "    <tr style=\"text-align: right;\">\n",
              "      <th></th>\n",
              "      <th>Pregnancies</th>\n",
              "      <th>Glucose</th>\n",
              "      <th>BloodPressure</th>\n",
              "      <th>SkinThickness</th>\n",
              "      <th>Insulin</th>\n",
              "      <th>BMI</th>\n",
              "      <th>DiabetesPedigreeFunction</th>\n",
              "      <th>Age</th>\n",
              "      <th>Outcome</th>\n",
              "    </tr>\n",
              "  </thead>\n",
              "  <tbody>\n",
              "    <tr>\n",
              "      <th>0</th>\n",
              "      <td>6</td>\n",
              "      <td>148</td>\n",
              "      <td>72</td>\n",
              "      <td>35</td>\n",
              "      <td>0</td>\n",
              "      <td>33.6</td>\n",
              "      <td>0.627</td>\n",
              "      <td>50</td>\n",
              "      <td>1</td>\n",
              "    </tr>\n",
              "    <tr>\n",
              "      <th>1</th>\n",
              "      <td>1</td>\n",
              "      <td>85</td>\n",
              "      <td>66</td>\n",
              "      <td>29</td>\n",
              "      <td>0</td>\n",
              "      <td>26.6</td>\n",
              "      <td>0.351</td>\n",
              "      <td>31</td>\n",
              "      <td>0</td>\n",
              "    </tr>\n",
              "    <tr>\n",
              "      <th>2</th>\n",
              "      <td>8</td>\n",
              "      <td>183</td>\n",
              "      <td>64</td>\n",
              "      <td>0</td>\n",
              "      <td>0</td>\n",
              "      <td>23.3</td>\n",
              "      <td>0.672</td>\n",
              "      <td>32</td>\n",
              "      <td>1</td>\n",
              "    </tr>\n",
              "    <tr>\n",
              "      <th>3</th>\n",
              "      <td>1</td>\n",
              "      <td>89</td>\n",
              "      <td>66</td>\n",
              "      <td>23</td>\n",
              "      <td>94</td>\n",
              "      <td>28.1</td>\n",
              "      <td>0.167</td>\n",
              "      <td>21</td>\n",
              "      <td>0</td>\n",
              "    </tr>\n",
              "    <tr>\n",
              "      <th>4</th>\n",
              "      <td>0</td>\n",
              "      <td>137</td>\n",
              "      <td>40</td>\n",
              "      <td>35</td>\n",
              "      <td>168</td>\n",
              "      <td>43.1</td>\n",
              "      <td>2.288</td>\n",
              "      <td>33</td>\n",
              "      <td>1</td>\n",
              "    </tr>\n",
              "  </tbody>\n",
              "</table>\n",
              "</div>\n",
              "    <div class=\"colab-df-buttons\">\n",
              "\n",
              "  <div class=\"colab-df-container\">\n",
              "    <button class=\"colab-df-convert\" onclick=\"convertToInteractive('df-d3e0b403-590b-4db1-b450-b10721ff07eb')\"\n",
              "            title=\"Convert this dataframe to an interactive table.\"\n",
              "            style=\"display:none;\">\n",
              "\n",
              "  <svg xmlns=\"http://www.w3.org/2000/svg\" height=\"24px\" viewBox=\"0 -960 960 960\">\n",
              "    <path d=\"M120-120v-720h720v720H120Zm60-500h600v-160H180v160Zm220 220h160v-160H400v160Zm0 220h160v-160H400v160ZM180-400h160v-160H180v160Zm440 0h160v-160H620v160ZM180-180h160v-160H180v160Zm440 0h160v-160H620v160Z\"/>\n",
              "  </svg>\n",
              "    </button>\n",
              "\n",
              "  <style>\n",
              "    .colab-df-container {\n",
              "      display:flex;\n",
              "      gap: 12px;\n",
              "    }\n",
              "\n",
              "    .colab-df-convert {\n",
              "      background-color: #E8F0FE;\n",
              "      border: none;\n",
              "      border-radius: 50%;\n",
              "      cursor: pointer;\n",
              "      display: none;\n",
              "      fill: #1967D2;\n",
              "      height: 32px;\n",
              "      padding: 0 0 0 0;\n",
              "      width: 32px;\n",
              "    }\n",
              "\n",
              "    .colab-df-convert:hover {\n",
              "      background-color: #E2EBFA;\n",
              "      box-shadow: 0px 1px 2px rgba(60, 64, 67, 0.3), 0px 1px 3px 1px rgba(60, 64, 67, 0.15);\n",
              "      fill: #174EA6;\n",
              "    }\n",
              "\n",
              "    .colab-df-buttons div {\n",
              "      margin-bottom: 4px;\n",
              "    }\n",
              "\n",
              "    [theme=dark] .colab-df-convert {\n",
              "      background-color: #3B4455;\n",
              "      fill: #D2E3FC;\n",
              "    }\n",
              "\n",
              "    [theme=dark] .colab-df-convert:hover {\n",
              "      background-color: #434B5C;\n",
              "      box-shadow: 0px 1px 3px 1px rgba(0, 0, 0, 0.15);\n",
              "      filter: drop-shadow(0px 1px 2px rgba(0, 0, 0, 0.3));\n",
              "      fill: #FFFFFF;\n",
              "    }\n",
              "  </style>\n",
              "\n",
              "    <script>\n",
              "      const buttonEl =\n",
              "        document.querySelector('#df-d3e0b403-590b-4db1-b450-b10721ff07eb button.colab-df-convert');\n",
              "      buttonEl.style.display =\n",
              "        google.colab.kernel.accessAllowed ? 'block' : 'none';\n",
              "\n",
              "      async function convertToInteractive(key) {\n",
              "        const element = document.querySelector('#df-d3e0b403-590b-4db1-b450-b10721ff07eb');\n",
              "        const dataTable =\n",
              "          await google.colab.kernel.invokeFunction('convertToInteractive',\n",
              "                                                    [key], {});\n",
              "        if (!dataTable) return;\n",
              "\n",
              "        const docLinkHtml = 'Like what you see? Visit the ' +\n",
              "          '<a target=\"_blank\" href=https://colab.research.google.com/notebooks/data_table.ipynb>data table notebook</a>'\n",
              "          + ' to learn more about interactive tables.';\n",
              "        element.innerHTML = '';\n",
              "        dataTable['output_type'] = 'display_data';\n",
              "        await google.colab.output.renderOutput(dataTable, element);\n",
              "        const docLink = document.createElement('div');\n",
              "        docLink.innerHTML = docLinkHtml;\n",
              "        element.appendChild(docLink);\n",
              "      }\n",
              "    </script>\n",
              "  </div>\n",
              "\n",
              "\n",
              "<div id=\"df-8dc7422b-918d-4b5a-a393-cd9f07f300a6\">\n",
              "  <button class=\"colab-df-quickchart\" onclick=\"quickchart('df-8dc7422b-918d-4b5a-a393-cd9f07f300a6')\"\n",
              "            title=\"Suggest charts\"\n",
              "            style=\"display:none;\">\n",
              "\n",
              "<svg xmlns=\"http://www.w3.org/2000/svg\" height=\"24px\"viewBox=\"0 0 24 24\"\n",
              "     width=\"24px\">\n",
              "    <g>\n",
              "        <path d=\"M19 3H5c-1.1 0-2 .9-2 2v14c0 1.1.9 2 2 2h14c1.1 0 2-.9 2-2V5c0-1.1-.9-2-2-2zM9 17H7v-7h2v7zm4 0h-2V7h2v10zm4 0h-2v-4h2v4z\"/>\n",
              "    </g>\n",
              "</svg>\n",
              "  </button>\n",
              "\n",
              "<style>\n",
              "  .colab-df-quickchart {\n",
              "      --bg-color: #E8F0FE;\n",
              "      --fill-color: #1967D2;\n",
              "      --hover-bg-color: #E2EBFA;\n",
              "      --hover-fill-color: #174EA6;\n",
              "      --disabled-fill-color: #AAA;\n",
              "      --disabled-bg-color: #DDD;\n",
              "  }\n",
              "\n",
              "  [theme=dark] .colab-df-quickchart {\n",
              "      --bg-color: #3B4455;\n",
              "      --fill-color: #D2E3FC;\n",
              "      --hover-bg-color: #434B5C;\n",
              "      --hover-fill-color: #FFFFFF;\n",
              "      --disabled-bg-color: #3B4455;\n",
              "      --disabled-fill-color: #666;\n",
              "  }\n",
              "\n",
              "  .colab-df-quickchart {\n",
              "    background-color: var(--bg-color);\n",
              "    border: none;\n",
              "    border-radius: 50%;\n",
              "    cursor: pointer;\n",
              "    display: none;\n",
              "    fill: var(--fill-color);\n",
              "    height: 32px;\n",
              "    padding: 0;\n",
              "    width: 32px;\n",
              "  }\n",
              "\n",
              "  .colab-df-quickchart:hover {\n",
              "    background-color: var(--hover-bg-color);\n",
              "    box-shadow: 0 1px 2px rgba(60, 64, 67, 0.3), 0 1px 3px 1px rgba(60, 64, 67, 0.15);\n",
              "    fill: var(--button-hover-fill-color);\n",
              "  }\n",
              "\n",
              "  .colab-df-quickchart-complete:disabled,\n",
              "  .colab-df-quickchart-complete:disabled:hover {\n",
              "    background-color: var(--disabled-bg-color);\n",
              "    fill: var(--disabled-fill-color);\n",
              "    box-shadow: none;\n",
              "  }\n",
              "\n",
              "  .colab-df-spinner {\n",
              "    border: 2px solid var(--fill-color);\n",
              "    border-color: transparent;\n",
              "    border-bottom-color: var(--fill-color);\n",
              "    animation:\n",
              "      spin 1s steps(1) infinite;\n",
              "  }\n",
              "\n",
              "  @keyframes spin {\n",
              "    0% {\n",
              "      border-color: transparent;\n",
              "      border-bottom-color: var(--fill-color);\n",
              "      border-left-color: var(--fill-color);\n",
              "    }\n",
              "    20% {\n",
              "      border-color: transparent;\n",
              "      border-left-color: var(--fill-color);\n",
              "      border-top-color: var(--fill-color);\n",
              "    }\n",
              "    30% {\n",
              "      border-color: transparent;\n",
              "      border-left-color: var(--fill-color);\n",
              "      border-top-color: var(--fill-color);\n",
              "      border-right-color: var(--fill-color);\n",
              "    }\n",
              "    40% {\n",
              "      border-color: transparent;\n",
              "      border-right-color: var(--fill-color);\n",
              "      border-top-color: var(--fill-color);\n",
              "    }\n",
              "    60% {\n",
              "      border-color: transparent;\n",
              "      border-right-color: var(--fill-color);\n",
              "    }\n",
              "    80% {\n",
              "      border-color: transparent;\n",
              "      border-right-color: var(--fill-color);\n",
              "      border-bottom-color: var(--fill-color);\n",
              "    }\n",
              "    90% {\n",
              "      border-color: transparent;\n",
              "      border-bottom-color: var(--fill-color);\n",
              "    }\n",
              "  }\n",
              "</style>\n",
              "\n",
              "  <script>\n",
              "    async function quickchart(key) {\n",
              "      const quickchartButtonEl =\n",
              "        document.querySelector('#' + key + ' button');\n",
              "      quickchartButtonEl.disabled = true;  // To prevent multiple clicks.\n",
              "      quickchartButtonEl.classList.add('colab-df-spinner');\n",
              "      try {\n",
              "        const charts = await google.colab.kernel.invokeFunction(\n",
              "            'suggestCharts', [key], {});\n",
              "      } catch (error) {\n",
              "        console.error('Error during call to suggestCharts:', error);\n",
              "      }\n",
              "      quickchartButtonEl.classList.remove('colab-df-spinner');\n",
              "      quickchartButtonEl.classList.add('colab-df-quickchart-complete');\n",
              "    }\n",
              "    (() => {\n",
              "      let quickchartButtonEl =\n",
              "        document.querySelector('#df-8dc7422b-918d-4b5a-a393-cd9f07f300a6 button');\n",
              "      quickchartButtonEl.style.display =\n",
              "        google.colab.kernel.accessAllowed ? 'block' : 'none';\n",
              "    })();\n",
              "  </script>\n",
              "</div>\n",
              "\n",
              "    </div>\n",
              "  </div>\n"
            ],
            "application/vnd.google.colaboratory.intrinsic+json": {
              "type": "dataframe",
              "variable_name": "diabetes_data",
              "summary": "{\n  \"name\": \"diabetes_data\",\n  \"rows\": 768,\n  \"fields\": [\n    {\n      \"column\": \"Pregnancies\",\n      \"properties\": {\n        \"dtype\": \"number\",\n        \"std\": 3,\n        \"min\": 0,\n        \"max\": 17,\n        \"num_unique_values\": 17,\n        \"samples\": [\n          6,\n          1,\n          3\n        ],\n        \"semantic_type\": \"\",\n        \"description\": \"\"\n      }\n    },\n    {\n      \"column\": \"Glucose\",\n      \"properties\": {\n        \"dtype\": \"number\",\n        \"std\": 31,\n        \"min\": 0,\n        \"max\": 199,\n        \"num_unique_values\": 136,\n        \"samples\": [\n          151,\n          101,\n          112\n        ],\n        \"semantic_type\": \"\",\n        \"description\": \"\"\n      }\n    },\n    {\n      \"column\": \"BloodPressure\",\n      \"properties\": {\n        \"dtype\": \"number\",\n        \"std\": 19,\n        \"min\": 0,\n        \"max\": 122,\n        \"num_unique_values\": 47,\n        \"samples\": [\n          86,\n          46,\n          85\n        ],\n        \"semantic_type\": \"\",\n        \"description\": \"\"\n      }\n    },\n    {\n      \"column\": \"SkinThickness\",\n      \"properties\": {\n        \"dtype\": \"number\",\n        \"std\": 15,\n        \"min\": 0,\n        \"max\": 99,\n        \"num_unique_values\": 51,\n        \"samples\": [\n          7,\n          12,\n          48\n        ],\n        \"semantic_type\": \"\",\n        \"description\": \"\"\n      }\n    },\n    {\n      \"column\": \"Insulin\",\n      \"properties\": {\n        \"dtype\": \"number\",\n        \"std\": 115,\n        \"min\": 0,\n        \"max\": 846,\n        \"num_unique_values\": 186,\n        \"samples\": [\n          52,\n          41,\n          183\n        ],\n        \"semantic_type\": \"\",\n        \"description\": \"\"\n      }\n    },\n    {\n      \"column\": \"BMI\",\n      \"properties\": {\n        \"dtype\": \"number\",\n        \"std\": 7.884160320375446,\n        \"min\": 0.0,\n        \"max\": 67.1,\n        \"num_unique_values\": 248,\n        \"samples\": [\n          19.9,\n          31.0,\n          38.1\n        ],\n        \"semantic_type\": \"\",\n        \"description\": \"\"\n      }\n    },\n    {\n      \"column\": \"DiabetesPedigreeFunction\",\n      \"properties\": {\n        \"dtype\": \"number\",\n        \"std\": 0.3313285950127749,\n        \"min\": 0.078,\n        \"max\": 2.42,\n        \"num_unique_values\": 517,\n        \"samples\": [\n          1.731,\n          0.426,\n          0.138\n        ],\n        \"semantic_type\": \"\",\n        \"description\": \"\"\n      }\n    },\n    {\n      \"column\": \"Age\",\n      \"properties\": {\n        \"dtype\": \"number\",\n        \"std\": 11,\n        \"min\": 21,\n        \"max\": 81,\n        \"num_unique_values\": 52,\n        \"samples\": [\n          60,\n          47,\n          72\n        ],\n        \"semantic_type\": \"\",\n        \"description\": \"\"\n      }\n    },\n    {\n      \"column\": \"Outcome\",\n      \"properties\": {\n        \"dtype\": \"number\",\n        \"std\": 0,\n        \"min\": 0,\n        \"max\": 1,\n        \"num_unique_values\": 2,\n        \"samples\": [\n          0,\n          1\n        ],\n        \"semantic_type\": \"\",\n        \"description\": \"\"\n      }\n    }\n  ]\n}"
            }
          },
          "metadata": {},
          "execution_count": 19
        }
      ],
      "source": [
        "diabetes_data.head()"
      ]
    },
    {
      "cell_type": "markdown",
      "id": "b0a85702-7d4f-4b33-9c86-1e3a22219f35",
      "metadata": {
        "id": "b0a85702-7d4f-4b33-9c86-1e3a22219f35"
      },
      "source": [
        "## Tool For Diagnosis of Diabetes\n",
        "\n",
        "Finally, I've provided the tool for diagnosis below.\n",
        "\n",
        "Steps:\n",
        "1. Fill the form out in its entirety\n",
        "2. Hit Submit\n",
        "3. The results will display below the submit button.\n",
        "4. Repeat as desired.\n",
        "\n",
        "Examples patients for use:\n",
        "1. Patient 1: Pregnancies - 6, Glucose - 148, Blood Pressure - 72, Skin Thickness - 35, Insulin - 0, BMI - 33.6, DPF - 0.627, Age - 50.\n",
        "2. Patient 2: Pregnancies - 3, Glucose - 170, Blood Pressure - 80, Skin Thickness - 33, Insulin - 0, BMI - 20.0, DPF - 0.333, Age - 25.\n",
        "3. Patient 3: Pregnancies - 3, Glucose - 200, Blood Pressure - 70, Skin Thickness - 35, Insulin - 50, BMI - 26.0, DPF - 0.5, Age - 30."
      ]
    },
    {
      "cell_type": "code",
      "execution_count": null,
      "id": "68ae5c5e-9861-470d-9e1b-9d4757b6f4f4",
      "metadata": {
        "id": "68ae5c5e-9861-470d-9e1b-9d4757b6f4f4",
        "colab": {
          "base_uri": "https://localhost:8080/",
          "height": 475,
          "referenced_widgets": [
            "8d14faaa7b324978ba2e939cf6dae582",
            "33e0a499d3854e3a8493bf7eb0d3ef36",
            "3acbbcb9aeed452a92d7cbc40ea38247",
            "4f8330e1aa3546c08f3735432abaf480",
            "a6990534abea4dc2bbb1ff42abfb3eef",
            "1e06a2e2a6c947e4b9f8ef893d54997f",
            "1b264bbfbc894cbd97cd8aad9ef446fe",
            "3d7b713073c248e0bd06400df9ae5686",
            "f3ff5a20816c42cc874d8449b8e00b7f",
            "9df009599d1045baae15482a3d48257d",
            "af690b2486744958a5d7b559636741ec",
            "7a5fab3b607d4fef8677d8b34c94477e",
            "201dfac4019645bead9910426fa7a782",
            "b64039581ad6416bb360c11451454cbd",
            "cdb3f1033adf4165b5ebe206152beb73",
            "61806a1d9355403595c5e80db222916d",
            "35d85442402b405bb888d6528de9a4d3",
            "2799db6f80a14791ba55fbc6fbd34aaf",
            "d126c402817e4aff8cb70eb209169d33",
            "1170efdcf9944f609459f2fc33c192e4",
            "bbcf38d7056b4c2eb3da6af31b2e8849",
            "7d7ede04009a4d2d801c28a7a177d87d",
            "0d86c84b3b674f149f8bcf4fde0ef194",
            "1a9a5b5b7f214456a4a8bcf5f691c0d8",
            "f23d74bfbb394c409b3cfa0c9d17a86f",
            "7fe325625eac477786f0773a0151de62",
            "ff5cc7a69a0043c3a68680cf2722aa11"
          ]
        },
        "outputId": "7436a2bd-bd65-4c5a-8ebb-e785df43d2d1"
      },
      "outputs": [
        {
          "output_type": "display_data",
          "data": {
            "text/plain": [
              "Box(children=(Label(value='Diabetes Screening Form', layout=Layout(margin='10px 30px')), IntSlider(value=0, de…"
            ],
            "application/vnd.jupyter.widget-view+json": {
              "version_major": 2,
              "version_minor": 0,
              "model_id": "8d14faaa7b324978ba2e939cf6dae582"
            }
          },
          "metadata": {}
        }
      ],
      "source": [
        "# Style and Layout Presets\n",
        "style = {'description_width': 'initial'}\n",
        "widget_layout = widgets.Layout(margin=\"5px 30px\")\n",
        "button_layout = widgets.Layout(margin=\"10px 30px\")\n",
        "label_layouts = widgets.Layout(margin = \"10px 30px\")\n",
        "\n",
        "# Create Labels\n",
        "title = widgets.Label(value=\"Diabetes Screening Form\", layout=label_layouts, style=dict(\n",
        "    font_weight='bold',\n",
        "    font_size='20px'\n",
        "))\n",
        "result = widgets.Label(value='None', layout=label_layouts)\n",
        "\n",
        "# Initialize widget objects appropriate for form.\n",
        "pregnancies = widgets.IntSlider(min=0, max=20, description='Pregnancies:', style=style, layout=widget_layout)\n",
        "glucose = widgets.BoundedIntText(min=0, max=200, description='Glucose (mg/dL):', style=style, layout=widget_layout)\n",
        "blood_pressure = widgets.BoundedIntText(min=0, max=130, description='Diastolic Blood Pressure (mmHg):', style=style, layout=widget_layout)\n",
        "skin_thickness = widgets.BoundedIntText(min=0, max=130, description='Skin Thickness (mm):', style=style, layout=widget_layout)\n",
        "insulin = widgets.BoundedIntText(min=0, max=1000, description='Insulin:', style=style, layout=widget_layout)\n",
        "bmi = widgets.BoundedFloatText(min=0, max=100, description='BMI:', style=style, layout=widget_layout)\n",
        "dpf = widgets.BoundedFloatText(min=0, max=4, description='Diabetes Pedigree Function:', style=style, layout=widget_layout)\n",
        "age = widgets.BoundedIntText(min=0, max=130, description='Age (years):', style=style, layout=widget_layout)\n",
        "\n",
        "# Create a Submit Button\n",
        "button = widgets.Button(layout=button_layout, description=\"Submit\")\n",
        "\n",
        "# Create a Box to hold form objects.\n",
        "attribute_box = widgets.Box([title, pregnancies, glucose, blood_pressure, skin_thickness, insulin, bmi, dpf, age, button, result],\n",
        "                   layout=widgets.Layout(flex_flow=\"column\", align_items=\"center\", border=\"5px solid black\", width=\"fit-content\",\n",
        "                                        margin_left=\"auto\"))\n",
        "\n",
        "# Create Diabetes Predictor Function using the Logistic Regression Model\n",
        "def predict_diabetes(preg, gluc, bp, skin_thickness, insulin, BMI, DPF, age):\n",
        "    prediction = clf.predict(pd.DataFrame({'Pregnancies':preg,\n",
        "                          'Glucose': gluc,\n",
        "                          'BloodPressure': bp,\n",
        "                          'SkinThickness': skin_thickness,\n",
        "                          'Insulin': insulin,\n",
        "                          'BMI': BMI,\n",
        "                          'DiabetesPedigreeFunction': DPF,\n",
        "                          'Age': age}, index=[0]))\n",
        "    if prediction[0] == 1:\n",
        "        return \"This client's outcome is \" + str(prediction[0]) + \". They are likely to have diabetes.\"\n",
        "    else:\n",
        "        return \"This client's outcome is \" + str(prediction[0]) + \". They are unlikely to have diabetes.\"\n",
        "\n",
        "# Define Button Function\n",
        "def on_button_clicked(b):\n",
        "    result.value = \"\"  # Clear previous result\n",
        "    # Extract values from widgets\n",
        "    preg = pregnancies.value\n",
        "    gluc = glucose.value\n",
        "    bp = blood_pressure.value\n",
        "    skin = skin_thickness.value\n",
        "    ins = insulin.value\n",
        "    bmi_val = bmi.value\n",
        "    dpf_val = dpf.value\n",
        "    age_val = age.value\n",
        "\n",
        "    # Call predict_diabetes function\n",
        "    prediction = predict_diabetes(preg, gluc, bp, skin, ins, bmi_val, dpf_val, age_val)\n",
        "\n",
        "    # Display the result\n",
        "    result.value = prediction\n",
        "\n",
        "# Create the on_click action of the Submit Button\n",
        "button.on_click(on_button_clicked)\n",
        "\n",
        "# Display the Box\n",
        "attribute_box"
      ]
    },
    {
      "cell_type": "code",
      "execution_count": null,
      "id": "2402a0c2-e225-40a0-b116-390c0621718d",
      "metadata": {
        "id": "2402a0c2-e225-40a0-b116-390c0621718d"
      },
      "outputs": [],
      "source": []
    }
  ],
  "metadata": {
    "kernelspec": {
      "display_name": "Python 3 (ipykernel)",
      "language": "python",
      "name": "python3"
    },
    "language_info": {
      "codemirror_mode": {
        "name": "ipython",
        "version": 3
      },
      "file_extension": ".py",
      "mimetype": "text/x-python",
      "name": "python",
      "nbconvert_exporter": "python",
      "pygments_lexer": "ipython3",
      "version": "3.12.2"
    },
    "colab": {
      "provenance": [],
      "include_colab_link": true
    },
    "widgets": {
      "application/vnd.jupyter.widget-state+json": {
        "8d14faaa7b324978ba2e939cf6dae582": {
          "model_module": "@jupyter-widgets/controls",
          "model_name": "BoxModel",
          "model_module_version": "1.5.0",
          "state": {
            "_dom_classes": [],
            "_model_module": "@jupyter-widgets/controls",
            "_model_module_version": "1.5.0",
            "_model_name": "BoxModel",
            "_view_count": null,
            "_view_module": "@jupyter-widgets/controls",
            "_view_module_version": "1.5.0",
            "_view_name": "BoxView",
            "box_style": "",
            "children": [
              "IPY_MODEL_33e0a499d3854e3a8493bf7eb0d3ef36",
              "IPY_MODEL_3acbbcb9aeed452a92d7cbc40ea38247",
              "IPY_MODEL_4f8330e1aa3546c08f3735432abaf480",
              "IPY_MODEL_a6990534abea4dc2bbb1ff42abfb3eef",
              "IPY_MODEL_1e06a2e2a6c947e4b9f8ef893d54997f",
              "IPY_MODEL_1b264bbfbc894cbd97cd8aad9ef446fe",
              "IPY_MODEL_3d7b713073c248e0bd06400df9ae5686",
              "IPY_MODEL_f3ff5a20816c42cc874d8449b8e00b7f",
              "IPY_MODEL_9df009599d1045baae15482a3d48257d",
              "IPY_MODEL_af690b2486744958a5d7b559636741ec",
              "IPY_MODEL_7a5fab3b607d4fef8677d8b34c94477e"
            ],
            "layout": "IPY_MODEL_201dfac4019645bead9910426fa7a782"
          }
        },
        "33e0a499d3854e3a8493bf7eb0d3ef36": {
          "model_module": "@jupyter-widgets/controls",
          "model_name": "LabelModel",
          "model_module_version": "1.5.0",
          "state": {
            "_dom_classes": [],
            "_model_module": "@jupyter-widgets/controls",
            "_model_module_version": "1.5.0",
            "_model_name": "LabelModel",
            "_view_count": null,
            "_view_module": "@jupyter-widgets/controls",
            "_view_module_version": "1.5.0",
            "_view_name": "LabelView",
            "description": "",
            "description_tooltip": null,
            "layout": "IPY_MODEL_b64039581ad6416bb360c11451454cbd",
            "placeholder": "​",
            "style": "IPY_MODEL_cdb3f1033adf4165b5ebe206152beb73",
            "value": "Diabetes Screening Form"
          }
        },
        "3acbbcb9aeed452a92d7cbc40ea38247": {
          "model_module": "@jupyter-widgets/controls",
          "model_name": "IntSliderModel",
          "model_module_version": "1.5.0",
          "state": {
            "_dom_classes": [],
            "_model_module": "@jupyter-widgets/controls",
            "_model_module_version": "1.5.0",
            "_model_name": "IntSliderModel",
            "_view_count": null,
            "_view_module": "@jupyter-widgets/controls",
            "_view_module_version": "1.5.0",
            "_view_name": "IntSliderView",
            "continuous_update": true,
            "description": "Pregnancies:",
            "description_tooltip": null,
            "disabled": false,
            "layout": "IPY_MODEL_61806a1d9355403595c5e80db222916d",
            "max": 20,
            "min": 0,
            "orientation": "horizontal",
            "readout": true,
            "readout_format": "d",
            "step": 1,
            "style": "IPY_MODEL_35d85442402b405bb888d6528de9a4d3",
            "value": 3
          }
        },
        "4f8330e1aa3546c08f3735432abaf480": {
          "model_module": "@jupyter-widgets/controls",
          "model_name": "BoundedIntTextModel",
          "model_module_version": "1.5.0",
          "state": {
            "_dom_classes": [],
            "_model_module": "@jupyter-widgets/controls",
            "_model_module_version": "1.5.0",
            "_model_name": "BoundedIntTextModel",
            "_view_count": null,
            "_view_module": "@jupyter-widgets/controls",
            "_view_module_version": "1.5.0",
            "_view_name": "IntTextView",
            "continuous_update": false,
            "description": "Glucose (mg/dL):",
            "description_tooltip": null,
            "disabled": false,
            "layout": "IPY_MODEL_61806a1d9355403595c5e80db222916d",
            "max": 200,
            "min": 0,
            "step": 1,
            "style": "IPY_MODEL_2799db6f80a14791ba55fbc6fbd34aaf",
            "value": 180
          }
        },
        "a6990534abea4dc2bbb1ff42abfb3eef": {
          "model_module": "@jupyter-widgets/controls",
          "model_name": "BoundedIntTextModel",
          "model_module_version": "1.5.0",
          "state": {
            "_dom_classes": [],
            "_model_module": "@jupyter-widgets/controls",
            "_model_module_version": "1.5.0",
            "_model_name": "BoundedIntTextModel",
            "_view_count": null,
            "_view_module": "@jupyter-widgets/controls",
            "_view_module_version": "1.5.0",
            "_view_name": "IntTextView",
            "continuous_update": false,
            "description": "Diastolic Blood Pressure (mmHg):",
            "description_tooltip": null,
            "disabled": false,
            "layout": "IPY_MODEL_61806a1d9355403595c5e80db222916d",
            "max": 130,
            "min": 0,
            "step": 1,
            "style": "IPY_MODEL_d126c402817e4aff8cb70eb209169d33",
            "value": 80
          }
        },
        "1e06a2e2a6c947e4b9f8ef893d54997f": {
          "model_module": "@jupyter-widgets/controls",
          "model_name": "BoundedIntTextModel",
          "model_module_version": "1.5.0",
          "state": {
            "_dom_classes": [],
            "_model_module": "@jupyter-widgets/controls",
            "_model_module_version": "1.5.0",
            "_model_name": "BoundedIntTextModel",
            "_view_count": null,
            "_view_module": "@jupyter-widgets/controls",
            "_view_module_version": "1.5.0",
            "_view_name": "IntTextView",
            "continuous_update": false,
            "description": "Skin Thickness (mm):",
            "description_tooltip": null,
            "disabled": false,
            "layout": "IPY_MODEL_61806a1d9355403595c5e80db222916d",
            "max": 130,
            "min": 0,
            "step": 1,
            "style": "IPY_MODEL_1170efdcf9944f609459f2fc33c192e4",
            "value": 33
          }
        },
        "1b264bbfbc894cbd97cd8aad9ef446fe": {
          "model_module": "@jupyter-widgets/controls",
          "model_name": "BoundedIntTextModel",
          "model_module_version": "1.5.0",
          "state": {
            "_dom_classes": [],
            "_model_module": "@jupyter-widgets/controls",
            "_model_module_version": "1.5.0",
            "_model_name": "BoundedIntTextModel",
            "_view_count": null,
            "_view_module": "@jupyter-widgets/controls",
            "_view_module_version": "1.5.0",
            "_view_name": "IntTextView",
            "continuous_update": false,
            "description": "Insulin:",
            "description_tooltip": null,
            "disabled": false,
            "layout": "IPY_MODEL_61806a1d9355403595c5e80db222916d",
            "max": 1000,
            "min": 0,
            "step": 1,
            "style": "IPY_MODEL_bbcf38d7056b4c2eb3da6af31b2e8849",
            "value": 0
          }
        },
        "3d7b713073c248e0bd06400df9ae5686": {
          "model_module": "@jupyter-widgets/controls",
          "model_name": "BoundedFloatTextModel",
          "model_module_version": "1.5.0",
          "state": {
            "_dom_classes": [],
            "_model_module": "@jupyter-widgets/controls",
            "_model_module_version": "1.5.0",
            "_model_name": "BoundedFloatTextModel",
            "_view_count": null,
            "_view_module": "@jupyter-widgets/controls",
            "_view_module_version": "1.5.0",
            "_view_name": "FloatTextView",
            "continuous_update": false,
            "description": "BMI:",
            "description_tooltip": null,
            "disabled": false,
            "layout": "IPY_MODEL_61806a1d9355403595c5e80db222916d",
            "max": 100,
            "min": 0,
            "step": null,
            "style": "IPY_MODEL_7d7ede04009a4d2d801c28a7a177d87d",
            "value": 20
          }
        },
        "f3ff5a20816c42cc874d8449b8e00b7f": {
          "model_module": "@jupyter-widgets/controls",
          "model_name": "BoundedFloatTextModel",
          "model_module_version": "1.5.0",
          "state": {
            "_dom_classes": [],
            "_model_module": "@jupyter-widgets/controls",
            "_model_module_version": "1.5.0",
            "_model_name": "BoundedFloatTextModel",
            "_view_count": null,
            "_view_module": "@jupyter-widgets/controls",
            "_view_module_version": "1.5.0",
            "_view_name": "FloatTextView",
            "continuous_update": false,
            "description": "Diabetes Pedigree Function:",
            "description_tooltip": null,
            "disabled": false,
            "layout": "IPY_MODEL_61806a1d9355403595c5e80db222916d",
            "max": 4,
            "min": 0,
            "step": null,
            "style": "IPY_MODEL_0d86c84b3b674f149f8bcf4fde0ef194",
            "value": 0.333
          }
        },
        "9df009599d1045baae15482a3d48257d": {
          "model_module": "@jupyter-widgets/controls",
          "model_name": "BoundedIntTextModel",
          "model_module_version": "1.5.0",
          "state": {
            "_dom_classes": [],
            "_model_module": "@jupyter-widgets/controls",
            "_model_module_version": "1.5.0",
            "_model_name": "BoundedIntTextModel",
            "_view_count": null,
            "_view_module": "@jupyter-widgets/controls",
            "_view_module_version": "1.5.0",
            "_view_name": "IntTextView",
            "continuous_update": false,
            "description": "Age (years):",
            "description_tooltip": null,
            "disabled": false,
            "layout": "IPY_MODEL_61806a1d9355403595c5e80db222916d",
            "max": 130,
            "min": 0,
            "step": 1,
            "style": "IPY_MODEL_1a9a5b5b7f214456a4a8bcf5f691c0d8",
            "value": 25
          }
        },
        "af690b2486744958a5d7b559636741ec": {
          "model_module": "@jupyter-widgets/controls",
          "model_name": "ButtonModel",
          "model_module_version": "1.5.0",
          "state": {
            "_dom_classes": [],
            "_model_module": "@jupyter-widgets/controls",
            "_model_module_version": "1.5.0",
            "_model_name": "ButtonModel",
            "_view_count": null,
            "_view_module": "@jupyter-widgets/controls",
            "_view_module_version": "1.5.0",
            "_view_name": "ButtonView",
            "button_style": "",
            "description": "Submit",
            "disabled": false,
            "icon": "",
            "layout": "IPY_MODEL_f23d74bfbb394c409b3cfa0c9d17a86f",
            "style": "IPY_MODEL_7fe325625eac477786f0773a0151de62",
            "tooltip": ""
          }
        },
        "7a5fab3b607d4fef8677d8b34c94477e": {
          "model_module": "@jupyter-widgets/controls",
          "model_name": "LabelModel",
          "model_module_version": "1.5.0",
          "state": {
            "_dom_classes": [],
            "_model_module": "@jupyter-widgets/controls",
            "_model_module_version": "1.5.0",
            "_model_name": "LabelModel",
            "_view_count": null,
            "_view_module": "@jupyter-widgets/controls",
            "_view_module_version": "1.5.0",
            "_view_name": "LabelView",
            "description": "",
            "description_tooltip": null,
            "layout": "IPY_MODEL_b64039581ad6416bb360c11451454cbd",
            "placeholder": "​",
            "style": "IPY_MODEL_ff5cc7a69a0043c3a68680cf2722aa11",
            "value": "This client's outcome is 0. They are unlikely to have diabetes."
          }
        },
        "201dfac4019645bead9910426fa7a782": {
          "model_module": "@jupyter-widgets/base",
          "model_name": "LayoutModel",
          "model_module_version": "1.2.0",
          "state": {
            "_model_module": "@jupyter-widgets/base",
            "_model_module_version": "1.2.0",
            "_model_name": "LayoutModel",
            "_view_count": null,
            "_view_module": "@jupyter-widgets/base",
            "_view_module_version": "1.2.0",
            "_view_name": "LayoutView",
            "align_content": null,
            "align_items": "center",
            "align_self": null,
            "border": "5px solid black",
            "bottom": null,
            "display": null,
            "flex": null,
            "flex_flow": "column",
            "grid_area": null,
            "grid_auto_columns": null,
            "grid_auto_flow": null,
            "grid_auto_rows": null,
            "grid_column": null,
            "grid_gap": null,
            "grid_row": null,
            "grid_template_areas": null,
            "grid_template_columns": null,
            "grid_template_rows": null,
            "height": null,
            "justify_content": null,
            "justify_items": null,
            "left": null,
            "margin": null,
            "max_height": null,
            "max_width": null,
            "min_height": null,
            "min_width": null,
            "object_fit": null,
            "object_position": null,
            "order": null,
            "overflow": null,
            "overflow_x": null,
            "overflow_y": null,
            "padding": null,
            "right": null,
            "top": null,
            "visibility": null,
            "width": "fit-content"
          }
        },
        "b64039581ad6416bb360c11451454cbd": {
          "model_module": "@jupyter-widgets/base",
          "model_name": "LayoutModel",
          "model_module_version": "1.2.0",
          "state": {
            "_model_module": "@jupyter-widgets/base",
            "_model_module_version": "1.2.0",
            "_model_name": "LayoutModel",
            "_view_count": null,
            "_view_module": "@jupyter-widgets/base",
            "_view_module_version": "1.2.0",
            "_view_name": "LayoutView",
            "align_content": null,
            "align_items": null,
            "align_self": null,
            "border": null,
            "bottom": null,
            "display": null,
            "flex": null,
            "flex_flow": null,
            "grid_area": null,
            "grid_auto_columns": null,
            "grid_auto_flow": null,
            "grid_auto_rows": null,
            "grid_column": null,
            "grid_gap": null,
            "grid_row": null,
            "grid_template_areas": null,
            "grid_template_columns": null,
            "grid_template_rows": null,
            "height": null,
            "justify_content": null,
            "justify_items": null,
            "left": null,
            "margin": "10px 30px",
            "max_height": null,
            "max_width": null,
            "min_height": null,
            "min_width": null,
            "object_fit": null,
            "object_position": null,
            "order": null,
            "overflow": null,
            "overflow_x": null,
            "overflow_y": null,
            "padding": null,
            "right": null,
            "top": null,
            "visibility": null,
            "width": null
          }
        },
        "cdb3f1033adf4165b5ebe206152beb73": {
          "model_module": "@jupyter-widgets/controls",
          "model_name": "DescriptionStyleModel",
          "model_module_version": "1.5.0",
          "state": {
            "_model_module": "@jupyter-widgets/controls",
            "_model_module_version": "1.5.0",
            "_model_name": "DescriptionStyleModel",
            "_view_count": null,
            "_view_module": "@jupyter-widgets/base",
            "_view_module_version": "1.2.0",
            "_view_name": "StyleView",
            "description_width": ""
          }
        },
        "61806a1d9355403595c5e80db222916d": {
          "model_module": "@jupyter-widgets/base",
          "model_name": "LayoutModel",
          "model_module_version": "1.2.0",
          "state": {
            "_model_module": "@jupyter-widgets/base",
            "_model_module_version": "1.2.0",
            "_model_name": "LayoutModel",
            "_view_count": null,
            "_view_module": "@jupyter-widgets/base",
            "_view_module_version": "1.2.0",
            "_view_name": "LayoutView",
            "align_content": null,
            "align_items": null,
            "align_self": null,
            "border": null,
            "bottom": null,
            "display": null,
            "flex": null,
            "flex_flow": null,
            "grid_area": null,
            "grid_auto_columns": null,
            "grid_auto_flow": null,
            "grid_auto_rows": null,
            "grid_column": null,
            "grid_gap": null,
            "grid_row": null,
            "grid_template_areas": null,
            "grid_template_columns": null,
            "grid_template_rows": null,
            "height": null,
            "justify_content": null,
            "justify_items": null,
            "left": null,
            "margin": "5px 30px",
            "max_height": null,
            "max_width": null,
            "min_height": null,
            "min_width": null,
            "object_fit": null,
            "object_position": null,
            "order": null,
            "overflow": null,
            "overflow_x": null,
            "overflow_y": null,
            "padding": null,
            "right": null,
            "top": null,
            "visibility": null,
            "width": null
          }
        },
        "35d85442402b405bb888d6528de9a4d3": {
          "model_module": "@jupyter-widgets/controls",
          "model_name": "SliderStyleModel",
          "model_module_version": "1.5.0",
          "state": {
            "_model_module": "@jupyter-widgets/controls",
            "_model_module_version": "1.5.0",
            "_model_name": "SliderStyleModel",
            "_view_count": null,
            "_view_module": "@jupyter-widgets/base",
            "_view_module_version": "1.2.0",
            "_view_name": "StyleView",
            "description_width": "initial",
            "handle_color": null
          }
        },
        "2799db6f80a14791ba55fbc6fbd34aaf": {
          "model_module": "@jupyter-widgets/controls",
          "model_name": "DescriptionStyleModel",
          "model_module_version": "1.5.0",
          "state": {
            "_model_module": "@jupyter-widgets/controls",
            "_model_module_version": "1.5.0",
            "_model_name": "DescriptionStyleModel",
            "_view_count": null,
            "_view_module": "@jupyter-widgets/base",
            "_view_module_version": "1.2.0",
            "_view_name": "StyleView",
            "description_width": "initial"
          }
        },
        "d126c402817e4aff8cb70eb209169d33": {
          "model_module": "@jupyter-widgets/controls",
          "model_name": "DescriptionStyleModel",
          "model_module_version": "1.5.0",
          "state": {
            "_model_module": "@jupyter-widgets/controls",
            "_model_module_version": "1.5.0",
            "_model_name": "DescriptionStyleModel",
            "_view_count": null,
            "_view_module": "@jupyter-widgets/base",
            "_view_module_version": "1.2.0",
            "_view_name": "StyleView",
            "description_width": "initial"
          }
        },
        "1170efdcf9944f609459f2fc33c192e4": {
          "model_module": "@jupyter-widgets/controls",
          "model_name": "DescriptionStyleModel",
          "model_module_version": "1.5.0",
          "state": {
            "_model_module": "@jupyter-widgets/controls",
            "_model_module_version": "1.5.0",
            "_model_name": "DescriptionStyleModel",
            "_view_count": null,
            "_view_module": "@jupyter-widgets/base",
            "_view_module_version": "1.2.0",
            "_view_name": "StyleView",
            "description_width": "initial"
          }
        },
        "bbcf38d7056b4c2eb3da6af31b2e8849": {
          "model_module": "@jupyter-widgets/controls",
          "model_name": "DescriptionStyleModel",
          "model_module_version": "1.5.0",
          "state": {
            "_model_module": "@jupyter-widgets/controls",
            "_model_module_version": "1.5.0",
            "_model_name": "DescriptionStyleModel",
            "_view_count": null,
            "_view_module": "@jupyter-widgets/base",
            "_view_module_version": "1.2.0",
            "_view_name": "StyleView",
            "description_width": "initial"
          }
        },
        "7d7ede04009a4d2d801c28a7a177d87d": {
          "model_module": "@jupyter-widgets/controls",
          "model_name": "DescriptionStyleModel",
          "model_module_version": "1.5.0",
          "state": {
            "_model_module": "@jupyter-widgets/controls",
            "_model_module_version": "1.5.0",
            "_model_name": "DescriptionStyleModel",
            "_view_count": null,
            "_view_module": "@jupyter-widgets/base",
            "_view_module_version": "1.2.0",
            "_view_name": "StyleView",
            "description_width": "initial"
          }
        },
        "0d86c84b3b674f149f8bcf4fde0ef194": {
          "model_module": "@jupyter-widgets/controls",
          "model_name": "DescriptionStyleModel",
          "model_module_version": "1.5.0",
          "state": {
            "_model_module": "@jupyter-widgets/controls",
            "_model_module_version": "1.5.0",
            "_model_name": "DescriptionStyleModel",
            "_view_count": null,
            "_view_module": "@jupyter-widgets/base",
            "_view_module_version": "1.2.0",
            "_view_name": "StyleView",
            "description_width": "initial"
          }
        },
        "1a9a5b5b7f214456a4a8bcf5f691c0d8": {
          "model_module": "@jupyter-widgets/controls",
          "model_name": "DescriptionStyleModel",
          "model_module_version": "1.5.0",
          "state": {
            "_model_module": "@jupyter-widgets/controls",
            "_model_module_version": "1.5.0",
            "_model_name": "DescriptionStyleModel",
            "_view_count": null,
            "_view_module": "@jupyter-widgets/base",
            "_view_module_version": "1.2.0",
            "_view_name": "StyleView",
            "description_width": "initial"
          }
        },
        "f23d74bfbb394c409b3cfa0c9d17a86f": {
          "model_module": "@jupyter-widgets/base",
          "model_name": "LayoutModel",
          "model_module_version": "1.2.0",
          "state": {
            "_model_module": "@jupyter-widgets/base",
            "_model_module_version": "1.2.0",
            "_model_name": "LayoutModel",
            "_view_count": null,
            "_view_module": "@jupyter-widgets/base",
            "_view_module_version": "1.2.0",
            "_view_name": "LayoutView",
            "align_content": null,
            "align_items": null,
            "align_self": null,
            "border": null,
            "bottom": null,
            "display": null,
            "flex": null,
            "flex_flow": null,
            "grid_area": null,
            "grid_auto_columns": null,
            "grid_auto_flow": null,
            "grid_auto_rows": null,
            "grid_column": null,
            "grid_gap": null,
            "grid_row": null,
            "grid_template_areas": null,
            "grid_template_columns": null,
            "grid_template_rows": null,
            "height": null,
            "justify_content": null,
            "justify_items": null,
            "left": null,
            "margin": "10px 30px",
            "max_height": null,
            "max_width": null,
            "min_height": null,
            "min_width": null,
            "object_fit": null,
            "object_position": null,
            "order": null,
            "overflow": null,
            "overflow_x": null,
            "overflow_y": null,
            "padding": null,
            "right": null,
            "top": null,
            "visibility": null,
            "width": null
          }
        },
        "7fe325625eac477786f0773a0151de62": {
          "model_module": "@jupyter-widgets/controls",
          "model_name": "ButtonStyleModel",
          "model_module_version": "1.5.0",
          "state": {
            "_model_module": "@jupyter-widgets/controls",
            "_model_module_version": "1.5.0",
            "_model_name": "ButtonStyleModel",
            "_view_count": null,
            "_view_module": "@jupyter-widgets/base",
            "_view_module_version": "1.2.0",
            "_view_name": "StyleView",
            "button_color": null,
            "font_weight": ""
          }
        },
        "ff5cc7a69a0043c3a68680cf2722aa11": {
          "model_module": "@jupyter-widgets/controls",
          "model_name": "DescriptionStyleModel",
          "model_module_version": "1.5.0",
          "state": {
            "_model_module": "@jupyter-widgets/controls",
            "_model_module_version": "1.5.0",
            "_model_name": "DescriptionStyleModel",
            "_view_count": null,
            "_view_module": "@jupyter-widgets/base",
            "_view_module_version": "1.2.0",
            "_view_name": "StyleView",
            "description_width": ""
          }
        }
      }
    }
  },
  "nbformat": 4,
  "nbformat_minor": 5
}